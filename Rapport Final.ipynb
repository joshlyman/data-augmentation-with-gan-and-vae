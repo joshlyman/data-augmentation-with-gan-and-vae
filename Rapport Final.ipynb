{
 "cells": [
  {
   "cell_type": "markdown",
   "metadata": {},
   "source": [
    "## GAN-Generated Samples to Offset Class Imbalance"
   ]
  },
  {
   "cell_type": "markdown",
   "metadata": {},
   "source": [
    "Vincent Fortin (11249631) <br>\n",
    "Nicolas Gervais (11263889)"
   ]
  },
  {
   "cell_type": "markdown",
   "metadata": {},
   "source": [
    "#### 1. Intro"
   ]
  },
  {
   "cell_type": "markdown",
   "metadata": {},
   "source": [
    "1.1.1 Class Imbalance "
   ]
  },
  {
   "cell_type": "markdown",
   "metadata": {},
   "source": [
    "Working with imbalanced classes represents a challenge that most machine learning practitioners will face. When combined with a limited number of training instances, imbalanced classes can result in poorly trained models. Having few instances from which to learn, algorithms may have a limited ability to generalize, and therefore suffer from poor performance on unseen data."
   ]
  },
  {
   "cell_type": "markdown",
   "metadata": {},
   "source": [
    "Various strategies have been suggested to negate the effects of class imbalance [$^{ref}$](https://www.sciencedirect.com/science/article/pii/S0957417416307175?via%3Dihub). A strategy is to cluster minority instances using a semi-unsupervised hierarchical clustering approach to determine the size to oversample each sub-cluster using its classification complexity and cross validation. Then, the minority instances are oversampled depending on their Euclidean distance to the majority class. [$^{ref}$](https://www.sciencedirect.com/science/article/pii/S0957417415007356) <font color='red'>_this excerpt was copy pasted_</font>. Minority instances can also be weighted according to their distance to the majority class [$^{ref}$](https://journals.plos.org/plosone/article?id=10.1371/journal.pone.0180830). "
   ]
  },
  {
   "cell_type": "markdown",
   "metadata": {},
   "source": [
    "A similar family of strategies is the undersampling of the majority class. Interestingly, the most effective method of this kind is to delete random samples until the size of the majority and minority classes match [$^{ref}$](https://link.springer.com/chapter/10.1007%2F978-3-642-02326-2_9)."
   ]
  },
  {
   "cell_type": "markdown",
   "metadata": {},
   "source": [
    "Finally, hybrid methods are a mixture of the two aforementioned strategies. A recent meta-analysis from Haixiang and colleagues (2017) offers more details of the latest developments of research on imbalanced datasets [$^{ref}$](https://www.sciencedirect.com/science/article/pii/S0957417416307175?via%3Dihub)."
   ]
  },
  {
   "cell_type": "markdown",
   "metadata": {},
   "source": [
    "1.1.2 What has been done in AI"
   ]
  },
  {
   "cell_type": "markdown",
   "metadata": {},
   "source": [
    "Counteracting the effects of class imbalance in image recognition tasks add another layer of difficulty. Yet, some methods have been suggested. By matching pairs of images (taking the mean of every pixel), accuracy was improved on the CIFAR-10, compared to the generic dataset [$^{ref}$](https://arxiv.org/abs/1801.02929). In a similar fashion, state-of-the-art results on the CIFAR-10 and ImageNet have been achieved using translation, rotation, or shearing of different magnitudes [$^{ref}$](https://arxiv.org/abs/1805.09501). Another method to provide more training samples was to cut the \"main\" component of the image, and paste it on different backgrounds [$^{ref}$](http://openaccess.thecvf.com/content_iccv_2017/html/Dwibedi_Cut_Paste_and_ICCV_2017_paper.html)."
   ]
  },
  {
   "cell_type": "markdown",
   "metadata": {},
   "source": [
    "Other possibilities to generate more training samples include generative adversarial networks (GAN) and variational auto-encoders (VAE)."
   ]
  },
  {
   "cell_type": "markdown",
   "metadata": {},
   "source": [
    "1.2.1 GAN"
   ]
  },
  {
   "cell_type": "code",
   "execution_count": null,
   "metadata": {},
   "outputs": [],
   "source": []
  },
  {
   "cell_type": "markdown",
   "metadata": {},
   "source": [
    "1.2.2 How GAN has been used to counter class imbalance"
   ]
  },
  {
   "cell_type": "code",
   "execution_count": null,
   "metadata": {},
   "outputs": [],
   "source": []
  },
  {
   "cell_type": "markdown",
   "metadata": {},
   "source": [
    "1.3 Our experiment"
   ]
  },
  {
   "cell_type": "code",
   "execution_count": null,
   "metadata": {},
   "outputs": [],
   "source": []
  },
  {
   "cell_type": "markdown",
   "metadata": {},
   "source": [
    "#### 2. Our experiment"
   ]
  },
  {
   "cell_type": "markdown",
   "metadata": {},
   "source": [
    "2.1 Our task"
   ]
  },
  {
   "cell_type": "markdown",
   "metadata": {},
   "source": [
    "With the help of GANs and VAEs, we will generate a multitude of samples for a minority class, and determine if these generated samples improve a classifier. A simple face recognition task will be assessed: to determine the sex of the person. "
   ]
  },
  {
   "cell_type": "markdown",
   "metadata": {},
   "source": [
    "2.2 Our data"
   ]
  },
  {
   "cell_type": "markdown",
   "metadata": {},
   "source": [
    "The dataset used will be the UTK Face Dataset [$^{ref}$](http://aicip.eecs.utk.edu/wiki/UTKFace), which consists of over 20,000 face images with annotations of age, gender, and ethnicity. Only the pictures labeled as between 20 and 100 years old will be included. 8,000 samples will be kept for both the male and female categories. Next, the female class will be reduced to 10% of its original size, in order to weaken the classifier. "
   ]
  },
  {
   "cell_type": "markdown",
   "metadata": {},
   "source": [
    "2.3 Our benchmarks "
   ]
  },
  {
   "cell_type": "code",
   "execution_count": 1,
   "metadata": {},
   "outputs": [],
   "source": [
    "# Here we downsample women until we get 70% accuracy"
   ]
  },
  {
   "cell_type": "markdown",
   "metadata": {},
   "source": [
    "2.3 Our metrics / CNN Classifier"
   ]
  },
  {
   "cell_type": "markdown",
   "metadata": {},
   "source": [
    "Our classifier will be a convolutional neural network (CNN) <font color='yellow'>(describe shortly)</font>. The classifier will be trained with both the _complete_ classes, and this performance will be established as the original baseline benchmark. Additionally, the CNN will be trained with the reduced female class, and it will be set as the lower bound "
   ]
  },
  {
   "cell_type": "markdown",
   "metadata": {},
   "source": [
    "2.4 Our models"
   ]
  },
  {
   "cell_type": "markdown",
   "metadata": {},
   "source": [
    "In total, five models will be used to generate samples. All models contain interesting particularities for the task at hand, which are promising in unique ways."
   ]
  },
  {
   "cell_type": "markdown",
   "metadata": {},
   "source": [
    "2.4.1 Variational Auto-Encoder"
   ]
  },
  {
   "cell_type": "code",
   "execution_count": null,
   "metadata": {},
   "outputs": [],
   "source": []
  },
  {
   "cell_type": "markdown",
   "metadata": {},
   "source": [
    "2.4.2 Adversarial Auto-Encoder "
   ]
  },
  {
   "cell_type": "code",
   "execution_count": null,
   "metadata": {},
   "outputs": [],
   "source": []
  },
  {
   "cell_type": "markdown",
   "metadata": {},
   "source": [
    "2.4.3 Softmax GAN"
   ]
  },
  {
   "cell_type": "code",
   "execution_count": null,
   "metadata": {},
   "outputs": [],
   "source": []
  },
  {
   "cell_type": "markdown",
   "metadata": {},
   "source": [
    "2.4.4 Wasserstein GAN"
   ]
  },
  {
   "cell_type": "code",
   "execution_count": null,
   "metadata": {},
   "outputs": [],
   "source": []
  },
  {
   "cell_type": "markdown",
   "metadata": {},
   "source": [
    "2.4.5 Deep Convolutional GAN (si j'arrive à le faire marcher)"
   ]
  },
  {
   "cell_type": "code",
   "execution_count": null,
   "metadata": {},
   "outputs": [],
   "source": []
  },
  {
   "cell_type": "markdown",
   "metadata": {},
   "source": [
    "#### 3. Our results "
   ]
  },
  {
   "cell_type": "code",
   "execution_count": null,
   "metadata": {},
   "outputs": [],
   "source": []
  },
  {
   "cell_type": "markdown",
   "metadata": {},
   "source": [
    "#### 4. Alternative results (GAN trained with all samples)"
   ]
  },
  {
   "cell_type": "code",
   "execution_count": null,
   "metadata": {},
   "outputs": [],
   "source": []
  }
 ],
 "metadata": {
  "kernelspec": {
   "display_name": "Python 3",
   "language": "python",
   "name": "python3"
  },
  "language_info": {
   "codemirror_mode": {
    "name": "ipython",
    "version": 3
   },
   "file_extension": ".py",
   "mimetype": "text/x-python",
   "name": "python",
   "nbconvert_exporter": "python",
   "pygments_lexer": "ipython3",
   "version": "3.6.9"
  }
 },
 "nbformat": 4,
 "nbformat_minor": 4
}
