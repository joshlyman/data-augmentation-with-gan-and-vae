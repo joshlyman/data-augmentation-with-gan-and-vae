{
 "cells": [
  {
   "cell_type": "markdown",
   "metadata": {},
   "source": [
    "# Pytorch ConvNet Distinguishing Men and Women"
   ]
  },
  {
   "cell_type": "markdown",
   "metadata": {},
   "source": [
    "##### Importing libraries"
   ]
  },
  {
   "cell_type": "code",
   "execution_count": 1,
   "metadata": {},
   "outputs": [],
   "source": [
    "import numpy as np\n",
    "import matplotlib.pyplot as plt\n",
    "from glob import glob\n",
    "from PIL import Image\n",
    "from time import time\n",
    "from sklearn.model_selection import train_test_split\n",
    "import torch\n",
    "import torch.nn as nn\n",
    "import torch.nn.functional as F\n",
    "import torch.optim as optim\n",
    "from torch.utils.data import DataLoader\n",
    "from torch.autograd import Variable\n",
    "import os\n",
    "os.chdir('C:/Users/Nicolas/Documents/Data/Faces')"
   ]
  },
  {
   "cell_type": "markdown",
   "metadata": {},
   "source": [
    "##### Loading all file names"
   ]
  },
  {
   "cell_type": "code",
   "execution_count": 2,
   "metadata": {},
   "outputs": [],
   "source": [
    "files = glob('combined/*.jpg')\n",
    "files = np.random.permutation(files)"
   ]
  },
  {
   "cell_type": "code",
   "execution_count": 3,
   "metadata": {},
   "outputs": [
    {
     "data": {
      "text/plain": [
       "array(['combined\\\\81_1_0_20170109150922380.jpg.chip.jpg',\n",
       "       'combined\\\\26_1_1_20170113011638655.jpg.chip.jpg',\n",
       "       'combined\\\\34_0_1_20170117014054215.jpg.chip.jpg',\n",
       "       'combined\\\\62_1_0_20170110122436007.jpg.chip.jpg',\n",
       "       'combined\\\\23_1_3_20170109132112364.jpg.chip.jpg'], dtype='<U47')"
      ]
     },
     "execution_count": 3,
     "metadata": {},
     "output_type": "execute_result"
    }
   ],
   "source": [
    "files[:5]"
   ]
  },
  {
   "cell_type": "markdown",
   "metadata": {},
   "source": [
    "##### Keeping all correctly formatted labels"
   ]
  },
  {
   "cell_type": "code",
   "execution_count": 4,
   "metadata": {},
   "outputs": [
    {
     "data": {
      "text/plain": [
       "(array(['0', '1', '9', '_'], dtype='<U1'),\n",
       " array([12387, 11316,     1,     5], dtype=int64))"
      ]
     },
     "execution_count": 4,
     "metadata": {},
     "output_type": "execute_result"
    }
   ],
   "source": [
    "np.unique([i[-34] for i in files], return_counts=True)"
   ]
  },
  {
   "cell_type": "markdown",
   "metadata": {},
   "source": [
    "##### Keeping only men/women (not both)"
   ]
  },
  {
   "cell_type": "code",
   "execution_count": 5,
   "metadata": {},
   "outputs": [],
   "source": [
    "faces = [i for i in files if (i[-34] in ('0', '1')) and len(i[-37:-35].strip('\\\\').strip('d'))  == 2 ]"
   ]
  },
  {
   "cell_type": "code",
   "execution_count": 6,
   "metadata": {},
   "outputs": [],
   "source": [
    "y = [i[-34] for i in files if (i[-34] in ('0', '1')) and len(i[-37:-35].strip('\\\\').strip('d')) > 1 ]"
   ]
  },
  {
   "cell_type": "code",
   "execution_count": 7,
   "metadata": {},
   "outputs": [],
   "source": [
    "sex = ['men', 'women']"
   ]
  },
  {
   "cell_type": "code",
   "execution_count": 8,
   "metadata": {},
   "outputs": [],
   "source": [
    "assert len(y) == len(faces), 'The X and Y are not of the same length!'"
   ]
  },
  {
   "cell_type": "markdown",
   "metadata": {},
   "source": [
    "#### Getting shape info"
   ]
  },
  {
   "cell_type": "code",
   "execution_count": 9,
   "metadata": {},
   "outputs": [],
   "source": [
    "# nrow, ncol, nchan = 200, 200, 3\n",
    "nrow, ncol, nchan = 60, 60, 3"
   ]
  },
  {
   "cell_type": "markdown",
   "metadata": {},
   "source": [
    "#### This is the shape width/height"
   ]
  },
  {
   "cell_type": "code",
   "execution_count": 10,
   "metadata": {},
   "outputs": [],
   "source": [
    "dim = 60"
   ]
  },
  {
   "cell_type": "markdown",
   "metadata": {},
   "source": [
    "#### Cropping function"
   ]
  },
  {
   "cell_type": "code",
   "execution_count": 11,
   "metadata": {},
   "outputs": [],
   "source": [
    "def crop(img):\n",
    "    if img.shape[0]<img.shape[1]:\n",
    "        x = img.shape[0]\n",
    "        y = img.shape[1]\n",
    "        crop_img = img[: , int(y/2-x/2):int(y/2+x/2)]\n",
    "    else:\n",
    "        x = img.shape[1]\n",
    "        y = img.shape[0]\n",
    "        crop_img = img[int(y/2-x/2):int(y/2+x/2) , :]\n",
    "\n",
    "    return crop_img"
   ]
  },
  {
   "cell_type": "markdown",
   "metadata": {},
   "source": [
    "##### Loading and cropping images"
   ]
  },
  {
   "cell_type": "code",
   "execution_count": 12,
   "metadata": {},
   "outputs": [
    {
     "name": "stdout",
     "output_type": "stream",
     "text": [
      "Done. 12 seconds\n"
     ]
    }
   ],
   "source": [
    "print('Scaling...', end='')\n",
    "start = time()\n",
    "x = []\n",
    "num_to_load = len(faces)\n",
    "for ix, file in enumerate(faces[:num_to_load]): \n",
    "    image = plt.imread(file, 'jpg')\n",
    "    image = Image.fromarray(image).resize((dim, dim)).convert('L')\n",
    "    image = crop(np.array(image))\n",
    "    x.append(image)\n",
    "print(f'\\rDone. {int(time() - start)} seconds')\n",
    "y = y[:num_to_load]"
   ]
  },
  {
   "cell_type": "markdown",
   "metadata": {},
   "source": [
    "##### Turning the pictures into arrays"
   ]
  },
  {
   "cell_type": "code",
   "execution_count": 13,
   "metadata": {},
   "outputs": [],
   "source": [
    "x = np.array(x, dtype=np.float32)\n",
    "y = np.array(y, dtype=np.float32)"
   ]
  },
  {
   "cell_type": "code",
   "execution_count": 14,
   "metadata": {},
   "outputs": [
    {
     "data": {
      "text/plain": [
       "(20638, 60, 60)"
      ]
     },
     "execution_count": 14,
     "metadata": {},
     "output_type": "execute_result"
    }
   ],
   "source": [
    "x.shape"
   ]
  },
  {
   "cell_type": "code",
   "execution_count": 15,
   "metadata": {},
   "outputs": [],
   "source": [
    "assert x.ndim == 3"
   ]
  },
  {
   "cell_type": "code",
   "execution_count": 16,
   "metadata": {},
   "outputs": [],
   "source": [
    "yy, xx = y.nbytes, x.nbytes"
   ]
  },
  {
   "cell_type": "code",
   "execution_count": 17,
   "metadata": {},
   "outputs": [
    {
     "name": "stdout",
     "output_type": "stream",
     "text": [
      "The size of X is 297,187,200 bytes and the size of Y is 82,552 bytes.\n"
     ]
    }
   ],
   "source": [
    "print(f'The size of X is {xx:,} bytes and the size of Y is {yy:,} bytes.')"
   ]
  },
  {
   "cell_type": "code",
   "execution_count": 18,
   "metadata": {},
   "outputs": [],
   "source": [
    "files, faces = None, None"
   ]
  },
  {
   "cell_type": "markdown",
   "metadata": {},
   "source": [
    "##### Displaying the pictures"
   ]
  },
  {
   "cell_type": "code",
   "execution_count": 19,
   "metadata": {},
   "outputs": [
    {
     "data": {
      "image/png": "[encoded data removed]",
      "text/plain": [
       "<Figure size 864x864 with 4 Axes>"
      ]
     },
     "metadata": {},
     "output_type": "display_data"
    }
   ],
   "source": [
    "np.random.seed(42)\n",
    "rand = np.random.randint(x.shape[0])\n",
    "fig = plt.figure(figsize=(12, 12))\n",
    "for i in range(1, 5):\n",
    "    plt.subplot(1, 5, i)\n",
    "    rand = np.random.randint(10)\n",
    "    ax = plt.imshow(x[rand], cmap='gray')\n",
    "    plt.title('<{}>'.format(sex[int(y[rand])].capitalize()))\n",
    "    yticks = plt.xticks([])\n",
    "    yticks = plt.yticks([])"
   ]
  },
  {
   "cell_type": "markdown",
   "metadata": {},
   "source": [
    "##### Cross-validation"
   ]
  },
  {
   "cell_type": "code",
   "execution_count": 20,
   "metadata": {},
   "outputs": [],
   "source": [
    "x_train, x_test, y_train, y_test = train_test_split(x, y, test_size=2e-1)\n",
    "x, y = None, None"
   ]
  },
  {
   "cell_type": "code",
   "execution_count": 21,
   "metadata": {},
   "outputs": [
    {
     "name": "stdout",
     "output_type": "stream",
     "text": [
      "The size of the training set is 16,510 and the size of the test set is 4,128.\n"
     ]
    }
   ],
   "source": [
    "trainsize, testsize = x_train.shape[0], x_test.shape[0]\n",
    "print(f'The size of the training set is {trainsize:,} and the '\\\n",
    "     f'size of the test set is {testsize:,}.')"
   ]
  },
  {
   "cell_type": "markdown",
   "metadata": {},
   "source": [
    "##### Scaling, casting the arrays"
   ]
  },
  {
   "cell_type": "code",
   "execution_count": 22,
   "metadata": {},
   "outputs": [
    {
     "name": "stdout",
     "output_type": "stream",
     "text": [
      "Done.     \n"
     ]
    }
   ],
   "source": [
    "print('Scaling...', end='')\n",
    "image_size = x_train.shape[1] * x_train.shape[1] \n",
    "x_train = x_train.reshape(-1, 1, dim, dim).astype('float32') / 255 \n",
    "x_test = x_test.reshape(-1, 1, dim, dim).astype('float32') / 255\n",
    "print('\\rDone.     ')"
   ]
  },
  {
   "cell_type": "code",
   "execution_count": 23,
   "metadata": {},
   "outputs": [
    {
     "data": {
      "text/plain": [
       "(16510, 1, 60, 60)"
      ]
     },
     "execution_count": 23,
     "metadata": {},
     "output_type": "execute_result"
    }
   ],
   "source": [
    "x_train.shape"
   ]
  },
  {
   "cell_type": "markdown",
   "metadata": {},
   "source": [
    "##### Sending the arrays to Cuda"
   ]
  },
  {
   "cell_type": "code",
   "execution_count": 24,
   "metadata": {},
   "outputs": [
    {
     "name": "stdout",
     "output_type": "stream",
     "text": [
      "Tensors successfully flushed to CUDA.\n"
     ]
    }
   ],
   "source": [
    "if torch.cuda.is_available():\n",
    "    x_train = torch.from_numpy(x_train) \n",
    "    x_test = torch.from_numpy(x_test) \n",
    "    y_train = torch.from_numpy(y_train) \n",
    "    y_test = torch.from_numpy(y_test)\n",
    "    print('Tensors successfully flushed to CUDA.')\n",
    "else:\n",
    "    print('CUDA not available!')"
   ]
  },
  {
   "cell_type": "markdown",
   "metadata": {},
   "source": [
    "##### Building the ConvNet"
   ]
  },
  {
   "cell_type": "code",
   "execution_count": 25,
   "metadata": {},
   "outputs": [],
   "source": [
    "# RuntimeError: size mismatch, m1: [16 x 1600], m2: [3200 x 1024]"
   ]
  },
  {
   "cell_type": "code",
   "execution_count": 26,
   "metadata": {},
   "outputs": [],
   "source": [
    "class ConvNet(nn.Module):\n",
    "    \n",
    "    def __init__(self):\n",
    "        super().__init__()\n",
    "        \n",
    "        self.conv1 = nn.Conv2d(1, 16, 3)\n",
    "        self.conv2 = nn.Conv2d(16, 32, 3)\n",
    "        self.conv3 = nn.Conv2d(32, 64, 3)\n",
    "        \n",
    "        self.fc1 = nn.Linear(5*5*64, 1024) \n",
    "        self.fc2 = nn.Linear(1024, 2048)\n",
    "        self.fc3 = nn.Linear(2048, 1)\n",
    "    \n",
    "    def forward(self, x):\n",
    "        x = F.max_pool2d(F.relu(self.conv1(x)), (2, 2))\n",
    "        x = F.max_pool2d(F.relu(self.conv2(x)), (2, 2))\n",
    "        x = F.max_pool2d(F.relu(self.conv3(x)), (2, 2))\n",
    "        \n",
    "        x = x.view(x.size(0), -1) \n",
    "        x = F.relu(self.fc1(x))\n",
    "        x = F.relu(self.fc2(x))\n",
    "        #x = F.dropout(x, 0.5)\n",
    "        x = self.fc3(x)\n",
    "        return torch.sigmoid(x)"
   ]
  },
  {
   "cell_type": "code",
   "execution_count": 27,
   "metadata": {},
   "outputs": [],
   "source": [
    "net = ConvNet()"
   ]
  },
  {
   "cell_type": "code",
   "execution_count": 28,
   "metadata": {},
   "outputs": [],
   "source": [
    "optimizer = optim.Adam(net.parameters(), lr=0.001)"
   ]
  },
  {
   "cell_type": "code",
   "execution_count": 40,
   "metadata": {},
   "outputs": [],
   "source": [
    "loss_function = nn.BCELoss()"
   ]
  },
  {
   "cell_type": "markdown",
   "metadata": {},
   "source": [
    "##### Instantiating the data"
   ]
  },
  {
   "cell_type": "code",
   "execution_count": 41,
   "metadata": {},
   "outputs": [],
   "source": [
    "class FaceTrain():\n",
    "    \n",
    "    def __init__(self):\n",
    "        self.len = x_train.shape[0]\n",
    "        self.x_train = x_train\n",
    "        self.y_train = y_train\n",
    "        \n",
    "    def __getitem__(self, index):\n",
    "        return x_train[index], y_train[index].unsqueeze(0)\n",
    "    \n",
    "    def __len__(self):\n",
    "        return self.len"
   ]
  },
  {
   "cell_type": "code",
   "execution_count": 42,
   "metadata": {},
   "outputs": [],
   "source": [
    "class FaceTest():\n",
    "    \n",
    "    def __init__(self):\n",
    "        self.len = x_test.shape[0]\n",
    "        self.x_test = x_test\n",
    "        self.y_test = y_test\n",
    "        \n",
    "    def __getitem__(self, index):\n",
    "        return x_test[index], y_test[index].unsqueeze(0)\n",
    "    \n",
    "    def __len__(self):\n",
    "        return self.len"
   ]
  },
  {
   "cell_type": "markdown",
   "metadata": {},
   "source": [
    "##### Making instances of the data"
   ]
  },
  {
   "cell_type": "code",
   "execution_count": 43,
   "metadata": {},
   "outputs": [],
   "source": [
    "train = FaceTrain()\n",
    "test = FaceTest()"
   ]
  },
  {
   "cell_type": "markdown",
   "metadata": {},
   "source": [
    "##### Making data iterator"
   ]
  },
  {
   "cell_type": "code",
   "execution_count": 44,
   "metadata": {},
   "outputs": [],
   "source": [
    "train_loader = DataLoader(dataset=train, batch_size=16, shuffle=True)\n",
    "test_loader = DataLoader(dataset=test, batch_size=16, shuffle=True)"
   ]
  },
  {
   "cell_type": "markdown",
   "metadata": {},
   "source": [
    "##### Training the model"
   ]
  },
  {
   "cell_type": "code",
   "execution_count": 45,
   "metadata": {},
   "outputs": [],
   "source": [
    "# num_epochs = 10\n",
    "# for epoch in range(num_epochs):\n",
    "#     for i, (inputs, labels) in enumerate(train_loader):\n",
    "#         inputs, labels = Variable(inputs), Variable(labels)\n",
    "#         ypred = net(inputs)\n",
    "#         loss = loss_function(ypred, labels)\n",
    "#         optimizer.zero_grad()\n",
    "#         loss.backward()\n",
    "#         optimizer.step()\n",
    "#     output = (ypred>0.5).float()\n",
    "#     correct = (output == labels).float().sum()\n",
    "#     print(\"Epoch {}/{}, Loss: {:.3f}, Accuracy: {:.3f}\".format(epoch+1, \n",
    "#                                 num_epochs, loss.item(), correct/output.shape[0]))"
   ]
  },
  {
   "cell_type": "code",
   "execution_count": 47,
   "metadata": {},
   "outputs": [
    {
     "name": "stdout",
     "output_type": "stream",
     "text": [
      "Epoch 1/10.. Train loss: 0.622.. Test loss: 0.572.. Test accuracy: 0.535\n",
      "Epoch 1/10.. Train loss: 0.477.. Test loss: 0.512.. Test accuracy: 0.535\n",
      "Epoch 1/10.. Train loss: 0.414.. Test loss: 0.389.. Test accuracy: 0.535\n",
      "Epoch 1/10.. Train loss: 0.363.. Test loss: 0.402.. Test accuracy: 0.535\n",
      "Epoch 1/10.. Train loss: 0.346.. Test loss: 0.358.. Test accuracy: 0.535\n",
      "Epoch 1/10.. Train loss: 0.362.. Test loss: 0.312.. Test accuracy: 0.535\n",
      "Epoch 1/10.. Train loss: 0.324.. Test loss: 0.353.. Test accuracy: 0.535\n",
      "Epoch 1/10.. Train loss: 0.327.. Test loss: 0.309.. Test accuracy: 0.535\n",
      "Epoch 1/10.. Train loss: 0.312.. Test loss: 0.409.. Test accuracy: 0.535\n",
      "Epoch 1/10.. Train loss: 0.313.. Test loss: 0.307.. Test accuracy: 0.535\n",
      "Epoch 2/10.. Train loss: 0.300.. Test loss: 0.283.. Test accuracy: 0.535\n",
      "Epoch 2/10.. Train loss: 0.283.. Test loss: 0.283.. Test accuracy: 0.535\n",
      "Epoch 2/10.. Train loss: 0.291.. Test loss: 0.322.. Test accuracy: 0.535\n",
      "Epoch 2/10.. Train loss: 0.254.. Test loss: 0.293.. Test accuracy: 0.535\n",
      "Epoch 2/10.. Train loss: 0.267.. Test loss: 0.290.. Test accuracy: 0.535\n",
      "Epoch 2/10.. Train loss: 0.264.. Test loss: 0.291.. Test accuracy: 0.535\n",
      "Epoch 2/10.. Train loss: 0.261.. Test loss: 0.264.. Test accuracy: 0.535\n",
      "Epoch 2/10.. Train loss: 0.285.. Test loss: 0.264.. Test accuracy: 0.535\n",
      "Epoch 2/10.. Train loss: 0.275.. Test loss: 0.311.. Test accuracy: 0.535\n",
      "Epoch 2/10.. Train loss: 0.266.. Test loss: 0.251.. Test accuracy: 0.535\n",
      "Epoch 3/10.. Train loss: 0.259.. Test loss: 0.267.. Test accuracy: 0.535\n",
      "Epoch 3/10.. Train loss: 0.255.. Test loss: 0.255.. Test accuracy: 0.535\n",
      "Epoch 3/10.. Train loss: 0.223.. Test loss: 0.290.. Test accuracy: 0.535\n",
      "Epoch 3/10.. Train loss: 0.254.. Test loss: 0.254.. Test accuracy: 0.535\n",
      "Epoch 3/10.. Train loss: 0.240.. Test loss: 0.260.. Test accuracy: 0.535\n",
      "Epoch 3/10.. Train loss: 0.251.. Test loss: 0.244.. Test accuracy: 0.535\n",
      "Epoch 3/10.. Train loss: 0.217.. Test loss: 0.240.. Test accuracy: 0.535\n",
      "Epoch 3/10.. Train loss: 0.235.. Test loss: 0.238.. Test accuracy: 0.535\n",
      "Epoch 3/10.. Train loss: 0.209.. Test loss: 0.231.. Test accuracy: 0.535\n",
      "Epoch 3/10.. Train loss: 0.234.. Test loss: 0.241.. Test accuracy: 0.535\n",
      "Epoch 4/10.. Train loss: 0.238.. Test loss: 0.242.. Test accuracy: 0.535\n",
      "Epoch 4/10.. Train loss: 0.238.. Test loss: 0.255.. Test accuracy: 0.535\n",
      "Epoch 4/10.. Train loss: 0.198.. Test loss: 0.244.. Test accuracy: 0.535\n",
      "Epoch 4/10.. Train loss: 0.212.. Test loss: 0.234.. Test accuracy: 0.535\n",
      "Epoch 4/10.. Train loss: 0.213.. Test loss: 0.242.. Test accuracy: 0.535\n",
      "Epoch 4/10.. Train loss: 0.199.. Test loss: 0.311.. Test accuracy: 0.535\n",
      "Epoch 4/10.. Train loss: 0.232.. Test loss: 0.238.. Test accuracy: 0.535\n",
      "Epoch 4/10.. Train loss: 0.213.. Test loss: 0.231.. Test accuracy: 0.535\n",
      "Epoch 4/10.. Train loss: 0.207.. Test loss: 0.238.. Test accuracy: 0.535\n",
      "Epoch 4/10.. Train loss: 0.208.. Test loss: 0.246.. Test accuracy: 0.535\n",
      "Epoch 4/10.. Train loss: 0.211.. Test loss: 0.241.. Test accuracy: 0.535\n",
      "Epoch 5/10.. Train loss: 0.187.. Test loss: 0.238.. Test accuracy: 0.535\n",
      "Epoch 5/10.. Train loss: 0.179.. Test loss: 0.245.. Test accuracy: 0.535\n",
      "Epoch 5/10.. Train loss: 0.204.. Test loss: 0.230.. Test accuracy: 0.535\n",
      "Epoch 5/10.. Train loss: 0.201.. Test loss: 0.227.. Test accuracy: 0.535\n",
      "Epoch 5/10.. Train loss: 0.192.. Test loss: 0.228.. Test accuracy: 0.535\n",
      "Epoch 5/10.. Train loss: 0.216.. Test loss: 0.222.. Test accuracy: 0.535\n",
      "Epoch 5/10.. Train loss: 0.201.. Test loss: 0.216.. Test accuracy: 0.535\n",
      "Epoch 5/10.. Train loss: 0.206.. Test loss: 0.248.. Test accuracy: 0.535\n",
      "Epoch 5/10.. Train loss: 0.191.. Test loss: 0.239.. Test accuracy: 0.535\n",
      "Epoch 5/10.. Train loss: 0.211.. Test loss: 0.294.. Test accuracy: 0.535\n",
      "Epoch 6/10.. Train loss: 0.187.. Test loss: 0.229.. Test accuracy: 0.535\n",
      "Epoch 6/10.. Train loss: 0.188.. Test loss: 0.228.. Test accuracy: 0.535\n",
      "Epoch 6/10.. Train loss: 0.168.. Test loss: 0.263.. Test accuracy: 0.535\n",
      "Epoch 6/10.. Train loss: 0.197.. Test loss: 0.246.. Test accuracy: 0.535\n",
      "Epoch 6/10.. Train loss: 0.200.. Test loss: 0.216.. Test accuracy: 0.535\n",
      "Epoch 6/10.. Train loss: 0.209.. Test loss: 0.222.. Test accuracy: 0.535\n",
      "Epoch 6/10.. Train loss: 0.201.. Test loss: 0.208.. Test accuracy: 0.535\n",
      "Epoch 6/10.. Train loss: 0.160.. Test loss: 0.278.. Test accuracy: 0.535\n",
      "Epoch 6/10.. Train loss: 0.161.. Test loss: 0.230.. Test accuracy: 0.535\n",
      "Epoch 6/10.. Train loss: 0.199.. Test loss: 0.231.. Test accuracy: 0.535\n",
      "Epoch 7/10.. Train loss: 0.183.. Test loss: 0.257.. Test accuracy: 0.535\n",
      "Epoch 7/10.. Train loss: 0.176.. Test loss: 0.215.. Test accuracy: 0.535\n",
      "Epoch 7/10.. Train loss: 0.187.. Test loss: 0.213.. Test accuracy: 0.535\n",
      "Epoch 7/10.. Train loss: 0.165.. Test loss: 0.225.. Test accuracy: 0.535\n",
      "Epoch 7/10.. Train loss: 0.169.. Test loss: 0.241.. Test accuracy: 0.535\n",
      "Epoch 7/10.. Train loss: 0.189.. Test loss: 0.250.. Test accuracy: 0.535\n",
      "Epoch 7/10.. Train loss: 0.167.. Test loss: 0.234.. Test accuracy: 0.535\n",
      "Epoch 7/10.. Train loss: 0.168.. Test loss: 0.251.. Test accuracy: 0.535\n",
      "Epoch 7/10.. Train loss: 0.163.. Test loss: 0.245.. Test accuracy: 0.535\n",
      "Epoch 7/10.. Train loss: 0.154.. Test loss: 0.241.. Test accuracy: 0.535\n",
      "Epoch 7/10.. Train loss: 0.176.. Test loss: 0.229.. Test accuracy: 0.535\n",
      "Epoch 8/10.. Train loss: 0.162.. Test loss: 0.222.. Test accuracy: 0.535\n",
      "Epoch 8/10.. Train loss: 0.160.. Test loss: 0.232.. Test accuracy: 0.535\n",
      "Epoch 8/10.. Train loss: 0.164.. Test loss: 0.233.. Test accuracy: 0.535\n",
      "Epoch 8/10.. Train loss: 0.154.. Test loss: 0.225.. Test accuracy: 0.535\n",
      "Epoch 8/10.. Train loss: 0.167.. Test loss: 0.225.. Test accuracy: 0.535\n",
      "Epoch 8/10.. Train loss: 0.141.. Test loss: 0.241.. Test accuracy: 0.535\n",
      "Epoch 8/10.. Train loss: 0.176.. Test loss: 0.267.. Test accuracy: 0.535\n",
      "Epoch 8/10.. Train loss: 0.166.. Test loss: 0.222.. Test accuracy: 0.535\n",
      "Epoch 8/10.. Train loss: 0.156.. Test loss: 0.216.. Test accuracy: 0.535\n",
      "Epoch 8/10.. Train loss: 0.162.. Test loss: 0.259.. Test accuracy: 0.535\n",
      "Epoch 9/10.. Train loss: 0.160.. Test loss: 0.236.. Test accuracy: 0.535\n",
      "Epoch 9/10.. Train loss: 0.147.. Test loss: 0.219.. Test accuracy: 0.535\n",
      "Epoch 9/10.. Train loss: 0.149.. Test loss: 0.218.. Test accuracy: 0.535\n",
      "Epoch 9/10.. Train loss: 0.155.. Test loss: 0.226.. Test accuracy: 0.535\n",
      "Epoch 9/10.. Train loss: 0.137.. Test loss: 0.233.. Test accuracy: 0.535\n",
      "Epoch 9/10.. Train loss: 0.150.. Test loss: 0.232.. Test accuracy: 0.535\n",
      "Epoch 9/10.. Train loss: 0.148.. Test loss: 0.242.. Test accuracy: 0.535\n",
      "Epoch 9/10.. Train loss: 0.155.. Test loss: 0.241.. Test accuracy: 0.535\n",
      "Epoch 9/10.. Train loss: 0.156.. Test loss: 0.241.. Test accuracy: 0.535\n",
      "Epoch 9/10.. Train loss: 0.161.. Test loss: 0.217.. Test accuracy: 0.535\n",
      "Epoch 10/10.. Train loss: 0.140.. Test loss: 0.225.. Test accuracy: 0.535\n",
      "Epoch 10/10.. Train loss: 0.113.. Test loss: 0.298.. Test accuracy: 0.535\n",
      "Epoch 10/10.. Train loss: 0.161.. Test loss: 0.242.. Test accuracy: 0.535\n",
      "Epoch 10/10.. Train loss: 0.150.. Test loss: 0.225.. Test accuracy: 0.535\n",
      "Epoch 10/10.. Train loss: 0.113.. Test loss: 0.230.. Test accuracy: 0.535\n",
      "Epoch 10/10.. Train loss: 0.125.. Test loss: 0.249.. Test accuracy: 0.535\n",
      "Epoch 10/10.. Train loss: 0.148.. Test loss: 0.260.. Test accuracy: 0.535\n",
      "Epoch 10/10.. Train loss: 0.140.. Test loss: 0.268.. Test accuracy: 0.535\n",
      "Epoch 10/10.. Train loss: 0.157.. Test loss: 0.212.. Test accuracy: 0.535\n",
      "Epoch 10/10.. Train loss: 0.141.. Test loss: 0.220.. Test accuracy: 0.535\n",
      "Epoch 10/10.. Train loss: 0.126.. Test loss: 0.240.. Test accuracy: 0.535\n"
     ]
    }
   ],
   "source": [
    "epochs = 1\n",
    "steps = 0\n",
    "running_loss = 0\n",
    "print_every = 100\n",
    "train_losses, test_losses = [], []\n",
    "device = 'cpu'\n",
    "for epoch in range(epochs):\n",
    "    for inputs, labels in train_loader:\n",
    "        steps += 1\n",
    "        inputs, labels = inputs.to(device), labels.to(device)\n",
    "        optimizer.zero_grad()\n",
    "        logps = net.forward(inputs)\n",
    "        loss = loss_function(logps, labels)\n",
    "        loss.backward()\n",
    "        optimizer.step()\n",
    "        running_loss += loss.item()\n",
    "        \n",
    "        if steps % print_every == 0:\n",
    "            test_loss = 0\n",
    "            accuracy = 0\n",
    "            net.eval()\n",
    "            with torch.no_grad():\n",
    "                for inputs, labels in test_loader:\n",
    "                    inputs, labels = inputs.to(device), labels.to(device)\n",
    "                    logps = net.forward(inputs)\n",
    "                    batch_loss = loss_function(logps, labels)\n",
    "                    test_loss += batch_loss.item()\n",
    "                    ps = torch.exp(logps)\n",
    "                    top_p, top_class = ps.topk(1, dim=1)\n",
    "                    equals = top_class == labels.view(*top_class.shape).type(torch.LongTensor)\n",
    "                    accuracy += torch.mean(equals.type(torch.FloatTensor)).item()\n",
    "            train_losses.append(running_loss/len(train_loader))\n",
    "            test_losses.append(test_loss/len(test_loader))                    \n",
    "            print(f\"Epoch {epoch+1}/{epochs}.. \"\n",
    "                  f\"Train loss: {running_loss/print_every:.3f}.. \"\n",
    "                  f\"Test loss: {test_loss/len(test_loader):.3f}.. \"\n",
    "                  f\"Test accuracy: {accuracy/len(test_loader):.3f}\")\n",
    "            running_loss = 0\n",
    "            net.train()"
   ]
  },
  {
   "cell_type": "markdown",
   "metadata": {},
   "source": [
    "This doesn't work. Back to the drawing board. We'll make a proof of concept using Keras, which is faster to write. Then we'll implement a working model with Pytorch again."
   ]
  }
 ],
 "metadata": {
  "kernelspec": {
   "display_name": "Python 3",
   "language": "python",
   "name": "python3"
  },
  "language_info": {
   "codemirror_mode": {
    "name": "ipython",
    "version": 3
   },
   "file_extension": ".py",
   "mimetype": "text/x-python",
   "name": "python",
   "nbconvert_exporter": "python",
   "pygments_lexer": "ipython3",
   "version": "3.6.9"
  }
 },
 "nbformat": 4,
 "nbformat_minor": 4
}
