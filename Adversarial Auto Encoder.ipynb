{
 "cells": [
  {
   "cell_type": "markdown",
   "metadata": {},
   "source": [
    "# Adversarial Auto Encoder"
   ]
  },
  {
   "cell_type": "markdown",
   "metadata": {},
   "source": [
    "##### Importing libraries"
   ]
  },
  {
   "cell_type": "code",
   "execution_count": 1,
   "metadata": {},
   "outputs": [],
   "source": [
    "import numpy as np\n",
    "import matplotlib.pyplot as plt\n",
    "from glob import glob\n",
    "from PIL import Image\n",
    "from time import time\n",
    "import os\n",
    "os.chdir('C:/Users/Nicolas/Documents/Data/Faces')\n",
    "import argparse\n",
    "import math\n",
    "import itertools\n",
    "from sklearn.model_selection import train_test_split\n",
    "\n",
    "import torchvision.transforms as transforms\n",
    "from torchvision.utils import save_image\n",
    "\n",
    "from torch.utils.data import DataLoader\n",
    "from torchvision import datasets\n",
    "from torch.autograd import Variable\n",
    "\n",
    "import torch.nn as nn\n",
    "import torch.nn.functional as F\n",
    "import torch"
   ]
  },
  {
   "cell_type": "markdown",
   "metadata": {},
   "source": [
    "##### Loading all file names"
   ]
  },
  {
   "cell_type": "code",
   "execution_count": 2,
   "metadata": {},
   "outputs": [],
   "source": [
    "files = glob('combined/*.jpg')\n",
    "files = np.random.permutation(files)"
   ]
  },
  {
   "cell_type": "code",
   "execution_count": 3,
   "metadata": {},
   "outputs": [
    {
     "data": {
      "text/plain": [
       "array(['combined\\\\35_1_1_20170116021348604.jpg.chip.jpg',\n",
       "       'combined\\\\7_0_1_20170113161247843.jpg.chip.jpg',\n",
       "       'combined\\\\57_0_0_20170113210319823.jpg.chip.jpg',\n",
       "       'combined\\\\16_0_0_20170110231909175.jpg.chip.jpg',\n",
       "       'combined\\\\30_1_3_20170104231929137.jpg.chip.jpg'], dtype='<U47')"
      ]
     },
     "execution_count": 3,
     "metadata": {},
     "output_type": "execute_result"
    }
   ],
   "source": [
    "files[:5]"
   ]
  },
  {
   "cell_type": "markdown",
   "metadata": {},
   "source": [
    "##### Keeping all correctly formatted labels"
   ]
  },
  {
   "cell_type": "code",
   "execution_count": 4,
   "metadata": {},
   "outputs": [
    {
     "data": {
      "text/plain": [
       "(array(['0', '1', '9', '_'], dtype='<U1'),\n",
       " array([12387, 11316,     1,     5], dtype=int64))"
      ]
     },
     "execution_count": 4,
     "metadata": {},
     "output_type": "execute_result"
    }
   ],
   "source": [
    "np.unique([i[-34] for i in files], return_counts=True)"
   ]
  },
  {
   "cell_type": "markdown",
   "metadata": {},
   "source": [
    "##### Removing problematic target names"
   ]
  },
  {
   "cell_type": "code",
   "execution_count": 5,
   "metadata": {},
   "outputs": [],
   "source": [
    "faces = [i for i in files if (i[-34] in ('0', '1')) and len(i[-37:-35].strip('\\\\').strip('d'))  == 2 ]"
   ]
  },
  {
   "cell_type": "code",
   "execution_count": 6,
   "metadata": {},
   "outputs": [],
   "source": [
    "y = [i[-34] for i in files if (i[-34] in ('0', '1')) and len(i[-37:-35].strip('\\\\').strip('d')) > 1 ]"
   ]
  },
  {
   "cell_type": "code",
   "execution_count": 7,
   "metadata": {},
   "outputs": [],
   "source": [
    "sex = ['men', 'women']"
   ]
  },
  {
   "cell_type": "code",
   "execution_count": 8,
   "metadata": {},
   "outputs": [],
   "source": [
    "assert len(y) == len(faces), 'The X and Y are not of the same length!'"
   ]
  },
  {
   "cell_type": "markdown",
   "metadata": {},
   "source": [
    "#### This is the shape width/height"
   ]
  },
  {
   "cell_type": "code",
   "execution_count": 9,
   "metadata": {},
   "outputs": [],
   "source": [
    "dim = 60"
   ]
  },
  {
   "cell_type": "markdown",
   "metadata": {},
   "source": [
    "#### Cropping function"
   ]
  },
  {
   "cell_type": "code",
   "execution_count": 10,
   "metadata": {},
   "outputs": [],
   "source": [
    "def crop(img):\n",
    "    if img.shape[0]<img.shape[1]:\n",
    "        x = img.shape[0]\n",
    "        y = img.shape[1]\n",
    "        crop_img = img[: , int(y/2-x/2):int(y/2+x/2)]\n",
    "    else:\n",
    "        x = img.shape[1]\n",
    "        y = img.shape[0]\n",
    "        crop_img = img[int(y/2-x/2):int(y/2+x/2) , :]\n",
    "\n",
    "    return crop_img"
   ]
  },
  {
   "cell_type": "markdown",
   "metadata": {},
   "source": [
    "##### Loading and cropping images"
   ]
  },
  {
   "cell_type": "code",
   "execution_count": 11,
   "metadata": {},
   "outputs": [
    {
     "name": "stdout",
     "output_type": "stream",
     "text": [
      "Done. 5 seconds\n"
     ]
    }
   ],
   "source": [
    "print('Scaling...', end='')\n",
    "start = time()\n",
    "x = []\n",
    "num_to_load = int(len(faces)/5) # len(faces)  \n",
    "for ix, file in enumerate(faces[:num_to_load]): \n",
    "    image = plt.imread(file, 'jpg')\n",
    "    image = Image.fromarray(image).resize((dim, dim)).convert('L')\n",
    "    image = crop(np.array(image))\n",
    "    x.append(image)\n",
    "print(f'\\rDone. {int(time() - start)} seconds')\n",
    "y = y[:num_to_load]"
   ]
  },
  {
   "cell_type": "markdown",
   "metadata": {},
   "source": [
    "##### Turning the pictures into arrays"
   ]
  },
  {
   "cell_type": "code",
   "execution_count": 12,
   "metadata": {},
   "outputs": [],
   "source": [
    "x = np.array(x, dtype=np.float32).reshape(-1, 1, 60, 60)\n",
    "y = np.array(y, dtype=np.float32)\n",
    "labels = y.copy()"
   ]
  },
  {
   "cell_type": "markdown",
   "metadata": {},
   "source": [
    "##### Turning the targets into a 2D matrix"
   ]
  },
  {
   "cell_type": "code",
   "execution_count": 13,
   "metadata": {},
   "outputs": [],
   "source": [
    "assert x.ndim == 4, 'The input is the wrong shape!'"
   ]
  },
  {
   "cell_type": "code",
   "execution_count": 14,
   "metadata": {},
   "outputs": [],
   "source": [
    "yy, xx = y.nbytes, x.nbytes"
   ]
  },
  {
   "cell_type": "code",
   "execution_count": 15,
   "metadata": {},
   "outputs": [
    {
     "name": "stdout",
     "output_type": "stream",
     "text": [
      "The size of X is 59,428,800 bytes and the size of Y is 16,508 bytes.\n"
     ]
    }
   ],
   "source": [
    "print(f'The size of X is {xx:,} bytes and the size of Y is {yy:,} bytes.')"
   ]
  },
  {
   "cell_type": "code",
   "execution_count": 16,
   "metadata": {},
   "outputs": [],
   "source": [
    "files, faces = None, None"
   ]
  },
  {
   "cell_type": "markdown",
   "metadata": {},
   "source": [
    "##### Displaying the pictures"
   ]
  },
  {
   "cell_type": "code",
   "execution_count": 17,
   "metadata": {},
   "outputs": [
    {
     "data": {
      "image/png": "[encoded data removed]",
      "text/plain": [
       "<Figure size 864x864 with 4 Axes>"
      ]
     },
     "metadata": {},
     "output_type": "display_data"
    }
   ],
   "source": [
    "fig = plt.figure(figsize=(12, 12))\n",
    "for i in range(1, 5):\n",
    "    plt.subplot(1, 5, i)\n",
    "    rand = np.random.randint(0, x.shape[0])\n",
    "    ax = plt.imshow(x[rand][0, :, :], cmap='gray')\n",
    "    plt.title('<{}>'.format(sex[int(labels[rand])].capitalize()))\n",
    "    yticks = plt.xticks([])\n",
    "    yticks = plt.yticks([])"
   ]
  },
  {
   "cell_type": "code",
   "execution_count": 18,
   "metadata": {},
   "outputs": [],
   "source": [
    "# x_train, x_test, y_train, y_test = train_test_split(x, y, test_size=2e-1)\n",
    "# x, y = None, None"
   ]
  },
  {
   "cell_type": "code",
   "execution_count": 19,
   "metadata": {},
   "outputs": [
    {
     "name": "stdout",
     "output_type": "stream",
     "text": [
      "Scaling...\r",
      "Done.     \n"
     ]
    }
   ],
   "source": [
    "print('Scaling...', end='')\n",
    "image_size = x.shape[1] * x.shape[1] \n",
    "x = x.astype('float32') / 255 \n",
    "print('\\rDone.     ')"
   ]
  },
  {
   "cell_type": "code",
   "execution_count": 20,
   "metadata": {},
   "outputs": [
    {
     "name": "stdout",
     "output_type": "stream",
     "text": [
      "Tensors successfully flushed to CUDA.\n"
     ]
    }
   ],
   "source": [
    "if torch.cuda.is_available():\n",
    "    # x_train = torch.from_numpy(x_train) \n",
    "    # x_test = torch.from_numpy(x_test) \n",
    "    # y_train = torch.from_numpy(y_train) \n",
    "    # y_test = torch.from_numpy(y_test)\n",
    "    x = torch.from_numpy(x) \n",
    "    y = torch.from_numpy(y)\n",
    "    print('Tensors successfully flushed to CUDA.')\n",
    "else:\n",
    "    print('CUDA not available!')"
   ]
  },
  {
   "cell_type": "markdown",
   "metadata": {},
   "source": [
    "##### Making a dataset class"
   ]
  },
  {
   "cell_type": "code",
   "execution_count": 21,
   "metadata": {},
   "outputs": [],
   "source": [
    "class Face():\n",
    "    \n",
    "    def __init__(self):\n",
    "        self.len = x.shape[0]\n",
    "        self.x = x\n",
    "        self.y = y\n",
    "        \n",
    "    def __getitem__(self, index):\n",
    "        return x[index], y[index].unsqueeze(0)\n",
    "    \n",
    "    def __len__(self):\n",
    "        return self.len"
   ]
  },
  {
   "cell_type": "markdown",
   "metadata": {},
   "source": [
    "##### Instantiating the class"
   ]
  },
  {
   "cell_type": "code",
   "execution_count": 22,
   "metadata": {},
   "outputs": [],
   "source": [
    "train = Face()"
   ]
  },
  {
   "cell_type": "markdown",
   "metadata": {},
   "source": [
    "##### Parsing the args"
   ]
  },
  {
   "cell_type": "code",
   "execution_count": 23,
   "metadata": {},
   "outputs": [],
   "source": [
    "os.makedirs(\"images\", exist_ok=True)"
   ]
  },
  {
   "cell_type": "code",
   "execution_count": 24,
   "metadata": {},
   "outputs": [],
   "source": [
    "parser = argparse.ArgumentParser()"
   ]
  },
  {
   "cell_type": "code",
   "execution_count": 25,
   "metadata": {},
   "outputs": [
    {
     "data": {
      "text/plain": [
       "_StoreAction(option_strings=['--sample_interval'], dest='sample_interval', nargs=None, const=None, default=1, type=<class 'int'>, choices=None, help='interval between image sampling', metavar=None)"
      ]
     },
     "execution_count": 25,
     "metadata": {},
     "output_type": "execute_result"
    }
   ],
   "source": [
    "parser.add_argument(\"--n_epochs\", type=int, default=25, help=\"number of epochs of training\")\n",
    "parser.add_argument(\"--batch_size\", type=int, default=32, help=\"size of the batches\")\n",
    "parser.add_argument(\"--lr\", type=float, default=0.005, help=\"adam: learning rate\")\n",
    "parser.add_argument(\"--b1\", type=float, default=0.3, help=\"adam: decay of first order momentum of gradient\")\n",
    "parser.add_argument(\"--b2\", type=float, default=0.999, help=\"adam: decay of first order momentum of gradient\")\n",
    "parser.add_argument(\"--n_cpu\", type=int, default=8, help=\"number of cpu threads to use during batch generation\")\n",
    "parser.add_argument(\"--latent_dim\", type=int, default=3, help=\"dimensionality of the latent code\")\n",
    "parser.add_argument(\"--img_size\", type=int, default=60, help=\"size of each image dimension\")\n",
    "parser.add_argument(\"--channels\", type=int, default=1, help=\"number of image channels\")\n",
    "parser.add_argument(\"--sample_interval\", type=int, default=50, help=\"interval between image sampling\")"
   ]
  },
  {
   "cell_type": "code",
   "execution_count": 26,
   "metadata": {},
   "outputs": [],
   "source": [
    "# opt = parser.parse_args()\n",
    "opt, unknown = parser.parse_known_args()"
   ]
  },
  {
   "cell_type": "code",
   "execution_count": 27,
   "metadata": {},
   "outputs": [
    {
     "name": "stdout",
     "output_type": "stream",
     "text": [
      "Namespace(b1=0.3, b2=0.999, batch_size=32, channels=1, img_size=60, latent_dim=3, lr=0.005, n_cpu=8, n_epochs=25, sample_interval=1)\n"
     ]
    }
   ],
   "source": [
    "print(opt)\n",
    "\n",
    "img_shape = (opt.channels, opt.img_size, opt.img_size)"
   ]
  },
  {
   "cell_type": "markdown",
   "metadata": {},
   "source": [
    "##### Reparametrization"
   ]
  },
  {
   "cell_type": "code",
   "execution_count": 28,
   "metadata": {},
   "outputs": [],
   "source": [
    "cuda = True if torch.cuda.is_available() else False"
   ]
  },
  {
   "cell_type": "code",
   "execution_count": 29,
   "metadata": {},
   "outputs": [],
   "source": [
    "def reparameterization(mu, logvar):\n",
    "    std = torch.exp(logvar / 2)\n",
    "    sampled_z = Variable(Tensor(np.random.normal(0, 1, (mu.size(0), opt.latent_dim))))\n",
    "    z = sampled_z * std + mu\n",
    "    return z"
   ]
  },
  {
   "cell_type": "markdown",
   "metadata": {},
   "source": [
    "##### Encoder"
   ]
  },
  {
   "cell_type": "code",
   "execution_count": 30,
   "metadata": {},
   "outputs": [],
   "source": [
    "class Encoder(nn.Module):\n",
    "    def __init__(self):\n",
    "        super(Encoder, self).__init__()\n",
    "\n",
    "        self.model = nn.Sequential(\n",
    "            nn.Linear(int(np.prod(img_shape)), 512),\n",
    "            nn.LeakyReLU(0.2, inplace=True),\n",
    "            nn.Linear(512, 512),\n",
    "            nn.BatchNorm1d(512),\n",
    "            nn.LeakyReLU(0.2, inplace=True),\n",
    "        )\n",
    "\n",
    "        self.mu = nn.Linear(512, opt.latent_dim)\n",
    "        self.logvar = nn.Linear(512, opt.latent_dim)\n",
    "\n",
    "    def forward(self, img):\n",
    "        img_flat = img.view(img.shape[0], -1)\n",
    "        x = self.model(img_flat)\n",
    "        mu = self.mu(x)\n",
    "        logvar = self.logvar(x)\n",
    "        z = reparameterization(mu, logvar)\n",
    "        return z"
   ]
  },
  {
   "cell_type": "markdown",
   "metadata": {},
   "source": [
    "##### Encoder"
   ]
  },
  {
   "cell_type": "code",
   "execution_count": 31,
   "metadata": {},
   "outputs": [],
   "source": [
    "class Decoder(nn.Module):\n",
    "    def __init__(self):\n",
    "        super(Decoder, self).__init__()\n",
    "\n",
    "        self.model = nn.Sequential(\n",
    "            nn.Linear(opt.latent_dim, 512),\n",
    "            nn.LeakyReLU(0.2, inplace=True),\n",
    "            nn.Linear(512, 512),\n",
    "            nn.BatchNorm1d(512),\n",
    "            nn.LeakyReLU(0.2, inplace=True),\n",
    "            nn.Linear(512, int(np.prod(img_shape))),\n",
    "            nn.Tanh(),\n",
    "        )\n",
    "\n",
    "    def forward(self, z):\n",
    "        img_flat = self.model(z)\n",
    "        img = img_flat.view(img_flat.shape[0], *img_shape)\n",
    "        return img"
   ]
  },
  {
   "cell_type": "markdown",
   "metadata": {},
   "source": [
    "##### Discriminator"
   ]
  },
  {
   "cell_type": "code",
   "execution_count": 32,
   "metadata": {},
   "outputs": [],
   "source": [
    "class Discriminator(nn.Module):\n",
    "    def __init__(self):\n",
    "        super(Discriminator, self).__init__()\n",
    "\n",
    "        self.model = nn.Sequential(\n",
    "            nn.Linear(opt.latent_dim, 512),\n",
    "            nn.LeakyReLU(0.2, inplace=True),\n",
    "            nn.Linear(512, 256),\n",
    "            nn.LeakyReLU(0.2, inplace=True),\n",
    "            nn.Linear(256, 1),\n",
    "            nn.Sigmoid(),\n",
    "        )\n",
    "\n",
    "    def forward(self, z):\n",
    "        validity = self.model(z)\n",
    "        return validity"
   ]
  },
  {
   "cell_type": "markdown",
   "metadata": {},
   "source": [
    "##### Create loss function"
   ]
  },
  {
   "cell_type": "code",
   "execution_count": 33,
   "metadata": {},
   "outputs": [],
   "source": [
    "# Use binary cross-entropy loss\n",
    "adversarial_loss = torch.nn.BCELoss()\n",
    "pixelwise_loss = torch.nn.L1Loss()"
   ]
  },
  {
   "cell_type": "markdown",
   "metadata": {},
   "source": [
    "##### Instatiate the classes"
   ]
  },
  {
   "cell_type": "code",
   "execution_count": 34,
   "metadata": {},
   "outputs": [],
   "source": [
    "# Initialize generator and discriminator\n",
    "encoder = Encoder()\n",
    "decoder = Decoder()\n",
    "discriminator = Discriminator()"
   ]
  },
  {
   "cell_type": "markdown",
   "metadata": {},
   "source": [
    "##### Send to cuda if possible"
   ]
  },
  {
   "cell_type": "code",
   "execution_count": 35,
   "metadata": {},
   "outputs": [],
   "source": [
    "if cuda:\n",
    "    encoder.cuda()\n",
    "    decoder.cuda()\n",
    "    discriminator.cuda()\n",
    "    adversarial_loss.cuda()\n",
    "    pixelwise_loss.cuda()"
   ]
  },
  {
   "cell_type": "markdown",
   "metadata": {},
   "source": [
    "##### Make dir"
   ]
  },
  {
   "cell_type": "code",
   "execution_count": 36,
   "metadata": {},
   "outputs": [],
   "source": [
    "# Configure data loader\n",
    "os.makedirs(\"directory\", exist_ok=True)\n",
    "dataloader = torch.utils.data.DataLoader(train, batch_size=opt.batch_size,\n",
    "    shuffle=True,\n",
    ")"
   ]
  },
  {
   "cell_type": "markdown",
   "metadata": {},
   "source": [
    "##### Make pics"
   ]
  },
  {
   "cell_type": "code",
   "execution_count": 37,
   "metadata": {},
   "outputs": [],
   "source": [
    "# Optimizers\n",
    "optimizer_G = torch.optim.Adam(\n",
    "    itertools.chain(encoder.parameters(), decoder.parameters()), lr=opt.lr, betas=(opt.b1, opt.b2)\n",
    ")\n",
    "optimizer_D = torch.optim.Adam(discriminator.parameters(), lr=opt.lr, betas=(opt.b1, opt.b2))\n",
    "\n",
    "Tensor = torch.cuda.FloatTensor if cuda else torch.FloatTensor\n",
    "\n",
    "\n",
    "def sample_image(n_row, batches_done):\n",
    "    \"\"\"Saves a grid of generated digits\"\"\"\n",
    "    # Sample noise\n",
    "    z = Variable(Tensor(np.random.normal(0, 1, (n_row ** 2, opt.latent_dim))))\n",
    "    gen_imgs = decoder(z)\n",
    "    save_image(gen_imgs.data, \"images/%d.png\" % batches_done, nrow=n_row, normalize=True)"
   ]
  },
  {
   "cell_type": "markdown",
   "metadata": {},
   "source": [
    "##### Train the model"
   ]
  },
  {
   "cell_type": "code",
   "execution_count": 38,
   "metadata": {},
   "outputs": [
    {
     "name": "stdout",
     "output_type": "stream",
     "text": [
      "[Epoch 0/25] [Batch 128/129] [D loss: 0.530735] [G loss: 0.227785]\n",
      "[Epoch 1/25] [Batch 128/129] [D loss: 0.536842] [G loss: 0.189113]\n",
      "[Epoch 2/25] [Batch 128/129] [D loss: 0.625455] [G loss: 0.176759]\n",
      "[Epoch 3/25] [Batch 128/129] [D loss: 0.530406] [G loss: 0.189388]\n",
      "[Epoch 4/25] [Batch 128/129] [D loss: 0.618144] [G loss: 0.180223]\n",
      "[Epoch 5/25] [Batch 128/129] [D loss: 0.616816] [G loss: 0.163058]\n",
      "[Epoch 6/25] [Batch 128/129] [D loss: 0.313410] [G loss: 0.199729]\n",
      "[Epoch 7/25] [Batch 128/129] [D loss: 0.719056] [G loss: 0.186529]\n",
      "[Epoch 8/25] [Batch 128/129] [D loss: 0.675545] [G loss: 0.175951]\n",
      "[Epoch 9/25] [Batch 128/129] [D loss: 0.317447] [G loss: 0.186320]\n",
      "[Epoch 10/25] [Batch 128/129] [D loss: 0.579522] [G loss: 0.165260]\n",
      "[Epoch 11/25] [Batch 128/129] [D loss: 0.442489] [G loss: 0.187621]\n",
      "[Epoch 12/25] [Batch 128/129] [D loss: 0.441387] [G loss: 0.142490]\n",
      "[Epoch 13/25] [Batch 128/129] [D loss: 0.722367] [G loss: 0.113072]\n",
      "[Epoch 14/25] [Batch 128/129] [D loss: 0.573351] [G loss: 0.115867]\n",
      "[Epoch 15/25] [Batch 128/129] [D loss: 0.639820] [G loss: 0.118878]\n",
      "[Epoch 16/25] [Batch 128/129] [D loss: 0.637210] [G loss: 0.113806]\n",
      "[Epoch 17/25] [Batch 128/129] [D loss: 0.671556] [G loss: 0.108593]\n",
      "[Epoch 18/25] [Batch 128/129] [D loss: 0.662018] [G loss: 0.111250]\n",
      "[Epoch 19/25] [Batch 128/129] [D loss: 0.606772] [G loss: 0.098959]\n",
      "[Epoch 20/25] [Batch 128/129] [D loss: 0.656708] [G loss: 0.112892]\n",
      "[Epoch 21/25] [Batch 128/129] [D loss: 0.682999] [G loss: 0.110315]\n",
      "[Epoch 22/25] [Batch 128/129] [D loss: 0.651544] [G loss: 0.113388]\n",
      "[Epoch 23/25] [Batch 128/129] [D loss: 0.679330] [G loss: 0.108707]\n",
      "[Epoch 24/25] [Batch 128/129] [D loss: 0.657079] [G loss: 0.115838]\n"
     ]
    }
   ],
   "source": [
    "for epoch in range(opt.n_epochs):\n",
    "    for i, (imgs, _) in enumerate(dataloader):\n",
    "\n",
    "        # Adversarial ground truths\n",
    "        valid = Variable(Tensor(imgs.shape[0], 1).fill_(1.0), requires_grad=False)\n",
    "        fake = Variable(Tensor(imgs.shape[0], 1).fill_(0.0), requires_grad=False)\n",
    "\n",
    "        # Configure input\n",
    "        real_imgs = Variable(imgs.type(Tensor))\n",
    "\n",
    "        # -----------------\n",
    "        #  Train Generator\n",
    "        # -----------------\n",
    "\n",
    "        optimizer_G.zero_grad()\n",
    "\n",
    "        encoded_imgs = encoder(real_imgs)\n",
    "        decoded_imgs = decoder(encoded_imgs)\n",
    "\n",
    "        # Loss measures generator's ability to fool the discriminator\n",
    "        g_loss = 0.001 * adversarial_loss(discriminator(encoded_imgs), valid) + 0.999 * pixelwise_loss(\n",
    "            decoded_imgs, real_imgs\n",
    "        )\n",
    "\n",
    "        g_loss.backward()\n",
    "        optimizer_G.step()\n",
    "\n",
    "        # ---------------------\n",
    "        #  Train Discriminator\n",
    "        # ---------------------\n",
    "\n",
    "        optimizer_D.zero_grad()\n",
    "\n",
    "        # Sample noise as discriminator ground truth\n",
    "        z = Variable(Tensor(np.random.normal(0, 1, (imgs.shape[0], opt.latent_dim))))\n",
    "\n",
    "        # Measure discriminator's ability to classify real from generated samples\n",
    "        real_loss = adversarial_loss(discriminator(z), valid)\n",
    "        fake_loss = adversarial_loss(discriminator(encoded_imgs.detach()), fake)\n",
    "        d_loss = 0.5 * (real_loss + fake_loss)\n",
    "\n",
    "        d_loss.backward()\n",
    "        optimizer_D.step()\n",
    "        \n",
    "        batches_done = epoch * len(dataloader) + i\n",
    "        if batches_done % opt.sample_interval == 0:\n",
    "            sample_image(n_row=5, batches_done=batches_done)\n",
    "            \n",
    "    print(\n",
    "        \"[Epoch %d/%d] [Batch %d/%d] [D loss: %f] [G loss: %f]\"\n",
    "        % (epoch, opt.n_epochs, i, len(dataloader), d_loss.item(), g_loss.item())\n",
    "    )\n",
    "\n",
    "        "
   ]
  },
  {
   "cell_type": "markdown",
   "metadata": {},
   "source": [
    "Look at generated faces"
   ]
  },
  {
   "cell_type": "code",
   "execution_count": 48,
   "metadata": {},
   "outputs": [
    {
     "data": {
      "image/png": "[encoded data removed]",
      "text/plain": [
       "<Figure size 432x432 with 1 Axes>"
      ]
     },
     "metadata": {},
     "output_type": "display_data"
    }
   ],
   "source": [
    "picture = plt.imread(r'C:\\Users\\Nicolas\\Documents\\Data\\faces\\images/3224.png')\n",
    "plt.figure(figsize=(6, 6))\n",
    "plt.imshow(picture)\n",
    "plt.xticks([]), plt.yticks([])\n",
    "plt.title('Generated Faces')\n",
    "plt.show()"
   ]
  }
 ],
 "metadata": {
  "kernelspec": {
   "display_name": "Python 3",
   "language": "python",
   "name": "python3"
  },
  "language_info": {
   "codemirror_mode": {
    "name": "ipython",
    "version": 3
   },
   "file_extension": ".py",
   "mimetype": "text/x-python",
   "name": "python",
   "nbconvert_exporter": "python",
   "pygments_lexer": "ipython3",
   "version": "3.6.9"
  }
 },
 "nbformat": 4,
 "nbformat_minor": 4
}
